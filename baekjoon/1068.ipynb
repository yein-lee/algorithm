{
 "cells": [
  {
   "cell_type": "code",
   "execution_count": 87,
   "metadata": {},
   "outputs": [
    {
     "name": "stdout",
     "output_type": "stream",
     "text": [
      "9\n",
      "-1 0 0 2 2 4 4 6 6\n"
     ]
    }
   ],
   "source": [
    "n = int(input())\n",
    "nodes = list(map(int, input().split()))\n",
    "graph = [[] for _ in range(n)]\n",
    "\n",
    "for i, node in enumerate(nodes):\n",
    "    if i != 0:\n",
    "        graph[node].append(i)"
   ]
  },
  {
   "cell_type": "code",
   "execution_count": 64,
   "metadata": {},
   "outputs": [
    {
     "name": "stdout",
     "output_type": "stream",
     "text": [
      "[[1, 2], [], [3, 4], [], [5, 6], [], [7, 8], [], []]\n"
     ]
    }
   ],
   "source": [
    "print(graph)"
   ]
  },
  {
   "cell_type": "code",
   "execution_count": 59,
   "metadata": {},
   "outputs": [
    {
     "name": "stdout",
     "output_type": "stream",
     "text": [
      "4\n"
     ]
    }
   ],
   "source": [
    "delete_n = int(input())"
   ]
  },
  {
   "cell_type": "code",
   "execution_count": 94,
   "metadata": {},
   "outputs": [],
   "source": [
    "def remove_recursive(x):\n",
    "#     print('x %d' %x)\n",
    "    parent_node = nodes[x]\n",
    "    print('parent %d' %parent_node)\n",
    "    graph[parent_node].remove(x)\n",
    "#     print(graph[parent_node])\n",
    "    print(graph[x])\n",
    "    if(len(graph[x])==0):\n",
    "        return\n",
    "    for node in graph[x]:\n",
    "        print('node %d' %node)\n",
    "        print(remove_recursive(node))"
   ]
  },
  {
   "cell_type": "code",
   "execution_count": 95,
   "metadata": {
    "scrolled": true
   },
   "outputs": [
    {
     "name": "stdout",
     "output_type": "stream",
     "text": [
      "parent 2\n",
      "[5, 6]\n",
      "node 5\n",
      "parent 4\n",
      "[]\n",
      "None\n"
     ]
    }
   ],
   "source": [
    "remove_recursive(delete_n)"
   ]
  },
  {
   "cell_type": "code",
   "execution_count": 56,
   "metadata": {},
   "outputs": [
    {
     "name": "stdout",
     "output_type": "stream",
     "text": [
      "[[1, 2], [], [3], [], [6], [], [7, 8], [], []]\n"
     ]
    }
   ],
   "source": [
    "print(graph)"
   ]
  },
  {
   "cell_type": "code",
   "execution_count": null,
   "metadata": {},
   "outputs": [],
   "source": []
  }
 ],
 "metadata": {
  "kernelspec": {
   "display_name": "Python 3",
   "language": "python",
   "name": "python3"
  },
  "language_info": {
   "codemirror_mode": {
    "name": "ipython",
    "version": 3
   },
   "file_extension": ".py",
   "mimetype": "text/x-python",
   "name": "python",
   "nbconvert_exporter": "python",
   "pygments_lexer": "ipython3",
   "version": "3.8.5"
  }
 },
 "nbformat": 4,
 "nbformat_minor": 4
}