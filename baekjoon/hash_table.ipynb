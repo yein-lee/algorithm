{
 "cells": [
  {
   "cell_type": "code",
   "execution_count": null,
   "metadata": {},
   "outputs": [],
   "source": [
    "class HashTable:\n",
    "    def __init__(self, table_size):\n",
    "        self.size = table_size\n",
    "        self.hash_table = [0 for a in range(self.size)]\n",
    "        \n",
    "    def getKey(self, data):\n",
    "        self.key = ord(data[0])\n",
    "        return self.key\n",
    "    \n",
    "    def hashFunction(self, key):\n",
    "        return key%self.size\n",
    "    \n",
    "    def getAddress(self, key):\n",
    "        myKey = self.getKey(key)\n",
    "        hash_address = self.hashFunction(myKey)\n",
    "        return hash_address\n",
    "    \n",
    "    def save(self, key, value):\n",
    "        hash_address = self.getAddress(key)\n",
    "        self.hash_table[hash_address] = value\n",
    "        \n",
    "    def read(self, key):\n",
    "        hash_address = self.getAddress(key)\n",
    "        return self.hash_table[hash_address]"
   ]
  }
 ],
 "metadata": {
  "kernelspec": {
   "display_name": "Python 3",
   "language": "python",
   "name": "python3"
  },
  "language_info": {
   "codemirror_mode": {
    "name": "ipython",
    "version": 3
   },
   "file_extension": ".py",
   "mimetype": "text/x-python",
   "name": "python",
   "nbconvert_exporter": "python",
   "pygments_lexer": "ipython3",
   "version": "3.8.5"
  }
 },
 "nbformat": 4,
 "nbformat_minor": 4
}
