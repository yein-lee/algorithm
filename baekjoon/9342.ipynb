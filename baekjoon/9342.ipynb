{
 "cells": [
  {
   "cell_type": "code",
   "execution_count": 4,
   "metadata": {},
   "outputs": [
    {
     "name": "stdout",
     "output_type": "stream",
     "text": [
      "1\n",
      "DFAFCB\n",
      "Good\n"
     ]
    }
   ],
   "source": [
    "import re\n",
    "p = re.compile('[ABCDEF]{0,1}A+F+C+[ABCDEF]{0,1}')\n",
    "T = int(input())\n",
    "for i in range(T):\n",
    "    chromosome = input()\n",
    "    m = p.fullmatch(chromosome)\n",
    "    if m:\n",
    "        print(\"Infected!\")\n",
    "    else:\n",
    "        print(\"Good\")"
   ]
  },
  {
   "cell_type": "code",
   "execution_count": null,
   "metadata": {},
   "outputs": [],
   "source": []
  }
 ],
 "metadata": {
  "kernelspec": {
   "display_name": "Python 3",
   "language": "python",
   "name": "python3"
  },
  "language_info": {
   "codemirror_mode": {
    "name": "ipython",
    "version": 3
   },
   "file_extension": ".py",
   "mimetype": "text/x-python",
   "name": "python",
   "nbconvert_exporter": "python",
   "pygments_lexer": "ipython3",
   "version": "3.8.5"
  }
 },
 "nbformat": 4,
 "nbformat_minor": 4
}
