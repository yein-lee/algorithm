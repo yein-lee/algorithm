{
 "cells": [
  {
   "cell_type": "code",
   "execution_count": 6,
   "metadata": {},
   "outputs": [
    {
     "name": "stdout",
     "output_type": "stream",
     "text": [
      "3\n",
      "26 40 83\n",
      "49 60 57\n",
      "13 89 99\n"
     ]
    }
   ],
   "source": [
    "n = int(input())\n",
    "cost_list = list()\n",
    "for i in range(n):\n",
    "    cost_list.append(list(map(int, input().split())))"
   ]
  },
  {
   "cell_type": "code",
   "execution_count": 7,
   "metadata": {},
   "outputs": [
    {
     "name": "stdout",
     "output_type": "stream",
     "text": [
      "3\n",
      "[[26, 40, 83], [49, 60, 57], [13, 89, 99]]\n"
     ]
    }
   ],
   "source": [
    "print(n)\n",
    "print(cost_list)"
   ]
  },
  {
   "cell_type": "code",
   "execution_count": 35,
   "metadata": {},
   "outputs": [],
   "source": [
    "def find(n, rgb):\n",
    "    if rgb==None:\n",
    "        print(\"rgb is None\")\n",
    "        min_cost = min(cost_list[n])\n",
    "        rgb = cost_list[n].index(min_cost)\n",
    "    else:\n",
    "        if rgb == 0:\n",
    "            if cost_list[n][1] < cost_list[n][2]:\n",
    "                min_cost = cost_list[n][1]\n",
    "                rgb = 1\n",
    "            else:\n",
    "                min_cost = cost_list[n][2]\n",
    "                rgb = 2\n",
    "        elif rgb==1:\n",
    "            if cost_list[n][0] < cost_list[n][2]:\n",
    "                min_cost = cost_list[n][0]\n",
    "                rgb = 0\n",
    "            else:\n",
    "                min_cost = cost_list[n][2]\n",
    "                rgb = 2\n",
    "        elif rgb==2:\n",
    "            if cost_list[n][0] < cost_list[n][1]:\n",
    "                min_cost = cost_list[n][0]\n",
    "                rgb = 0\n",
    "            else:\n",
    "                min_cost = cost_list[n][1]\n",
    "                rgb = 1\n",
    "        else:\n",
    "            print(\"invalid rgb value\")\n",
    "            return -1, -1\n",
    "    print(\"min_cost: %d\" %min_cost)\n",
    "    print(\"rgb: %d\" %rgb)\n",
    "    return min_cost, rgb"
   ]
  },
  {
   "cell_type": "code",
   "execution_count": 34,
   "metadata": {},
   "outputs": [
    {
     "name": "stdout",
     "output_type": "stream",
     "text": [
      "rgb is None\n",
      "min_cost: 26\n",
      "rgb: 0\n",
      "min_cost: 57\n",
      "rgb: 2\n",
      "min_cost: 89\n",
      "rgb: 1\n",
      "172\n"
     ]
    }
   ],
   "source": [
    "dp = list()\n",
    "for i in range(n):\n",
    "    dp[0][i] = \n",
    "    dp[0][i] = \n",
    "    dp[0][i] = \n",
    "    cost += temp_cost\n",
    "print(cost)\n",
    "    "
   ]
  },
  {
   "cell_type": "code",
   "execution_count": null,
   "metadata": {},
   "outputs": [],
   "source": []
  }
 ],
 "metadata": {
  "kernelspec": {
   "display_name": "Python 3",
   "language": "python",
   "name": "python3"
  },
  "language_info": {
   "codemirror_mode": {
    "name": "ipython",
    "version": 3
   },
   "file_extension": ".py",
   "mimetype": "text/x-python",
   "name": "python",
   "nbconvert_exporter": "python",
   "pygments_lexer": "ipython3",
   "version": "3.8.5"
  }
 },
 "nbformat": 4,
 "nbformat_minor": 4
}
