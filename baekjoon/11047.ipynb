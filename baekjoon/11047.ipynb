{
 "cells": [
  {
   "cell_type": "code",
   "execution_count": 17,
   "metadata": {},
   "outputs": [
    {
     "name": "stdout",
     "output_type": "stream",
     "text": [
      "10 4790\n",
      "1\n",
      "5\n",
      "10\n",
      "50\n",
      "100\n",
      "500\n",
      "1000\n",
      "5000\n",
      "10000\n",
      "50000\n",
      "50000 0\n",
      "10000 0\n",
      "5000 0\n",
      "1000 4\n",
      "500 5\n",
      "100 7\n",
      "50 8\n",
      "10 12\n",
      "5 12\n",
      "1 12\n",
      "12\n"
     ]
    }
   ],
   "source": [
    "n, k = map(int, input().split())\n",
    "coins = [0]*n\n",
    "for i in range(n):\n",
    "    coin = int(input())\n",
    "    coins[n-i-1] = coin\n",
    "\n",
    "cnt = 0\n",
    "for coin in coins:\n",
    "    cnt += k//coin\n",
    "    k %= coin\n",
    "print(cnt)"
   ]
  },
  {
   "cell_type": "code",
   "execution_count": 15,
   "metadata": {},
   "outputs": [
    {
     "name": "stdout",
     "output_type": "stream",
     "text": [
      "200\n"
     ]
    }
   ],
   "source": [
    "print(4200%1000)                                                                       "
   ]
  },
  {
   "cell_type": "code",
   "execution_count": null,
   "metadata": {},
   "outputs": [],
   "source": []
  }
 ],
 "metadata": {
  "kernelspec": {
   "display_name": "Python 3",
   "language": "python",
   "name": "python3"
  },
  "language_info": {
   "codemirror_mode": {
    "name": "ipython",
    "version": 3
   },
   "file_extension": ".py",
   "mimetype": "text/x-python",
   "name": "python",
   "nbconvert_exporter": "python",
   "pygments_lexer": "ipython3",
   "version": "3.8.5"
  }
 },
 "nbformat": 4,
 "nbformat_minor": 4
}
