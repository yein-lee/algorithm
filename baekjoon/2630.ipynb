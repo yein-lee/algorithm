{
 "cells": [
  {
   "cell_type": "code",
   "execution_count": 7,
   "metadata": {},
   "outputs": [
    {
     "name": "stdout",
     "output_type": "stream",
     "text": [
      "8\n",
      "1 1 0 0 0 0 1 1\n",
      "1 1 0 0 0 0 1 1\n",
      "0 0 0 0 1 1 0 0\n",
      "0 0 0 0 1 1 0 0\n",
      "1 0 0 0 1 1 1 1\n",
      "0 1 0 0 1 1 1 1\n",
      "0 0 1 1 1 1 1 1\n",
      "0 0 1 1 1 1 1 1\n",
      "9\n",
      "7\n"
     ]
    }
   ],
   "source": [
    "n = int(input())\n",
    "color_map = list()\n",
    "for i in range(n):\n",
    "    color_map.append(list(map(int, input().split())))\n",
    "    \n",
    "white = 0\n",
    "blue = 0\n",
    "\n",
    "def count_recursive(x,y, N):\n",
    "    global white, blue\n",
    "    cnt = 0\n",
    "    for i in range(x, x + N):\n",
    "        for j in range(y, y + N):\n",
    "            if color_map[i][j]:\n",
    "                cnt += 1\n",
    "    if not cnt:\n",
    "        white += 1\n",
    "    elif cnt == N**2:\n",
    "        blue += 1\n",
    "    else:\n",
    "        count_recursive(x, y, N // 2)\n",
    "        count_recursive(x + N // 2, y, N // 2)\n",
    "        count_recursive(x, y + N // 2, N // 2)\n",
    "        count_recursive(x + N // 2, y + N // 2, N // 2)\n",
    "    return\n",
    "    \n",
    "count_recursive(0, 0, n)\n",
    "print(white)\n",
    "print(blue)    "
   ]
  },
  {
   "cell_type": "code",
   "execution_count": 4,
   "metadata": {},
   "outputs": [
    {
     "name": "stdout",
     "output_type": "stream",
     "text": [
      "[<map object at 0x00000218E5E98490>, <map object at 0x00000218E5EE1100>, <map object at 0x00000218E5EE18E0>, <map object at 0x00000218E5EE13A0>, <map object at 0x00000218E5F7E130>, <map object at 0x00000218E5F7E070>, <map object at 0x00000218E5F7E190>, <map object at 0x00000218E5F7E0D0>]\n"
     ]
    }
   ],
   "source": [
    "print(color_map)"
   ]
  },
  {
   "cell_type": "code",
   "execution_count": null,
   "metadata": {},
   "outputs": [],
   "source": []
  }
 ],
 "metadata": {
  "kernelspec": {
   "display_name": "Python 3",
   "language": "python",
   "name": "python3"
  },
  "language_info": {
   "codemirror_mode": {
    "name": "ipython",
    "version": 3
   },
   "file_extension": ".py",
   "mimetype": "text/x-python",
   "name": "python",
   "nbconvert_exporter": "python",
   "pygments_lexer": "ipython3",
   "version": "3.8.5"
  }
 },
 "nbformat": 4,
 "nbformat_minor": 4
}
