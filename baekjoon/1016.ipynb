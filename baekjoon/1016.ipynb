{
 "cells": [
  {
   "cell_type": "code",
   "execution_count": 15,
   "metadata": {},
   "outputs": [
    {
     "name": "stdout",
     "output_type": "stream",
     "text": [
      "1 10\n",
      "[4, 9]\n",
      "7\n"
     ]
    }
   ],
   "source": [
    "n, m = map(int, input().split())\n",
    "\n",
    "cnt = 0\n",
    "square_numbers = list() #m 이하의 squre number를 담는다.\n",
    "\n",
    "x = 2\n",
    "while True:\n",
    "    if (x**2 > m):\n",
    "        break\n",
    "    square_numbers.append(x**2)\n",
    "    x += 1\n",
    "print(square_numbers)\n",
    "\n",
    "def check_nono(n):\n",
    "    for square_number in square_numbers:\n",
    "        if square_number > n:\n",
    "            break\n",
    "        if(i % square_number == 0):\n",
    "            return False\n",
    "    return True\n",
    "            \n",
    "            \n",
    "\n",
    "for i in range(n, m+1):\n",
    "    if check_nono(i):\n",
    "        cnt += 1\n",
    "\n",
    "print(cnt)"
   ]
  },
  {
   "cell_type": "code",
   "execution_count": null,
   "metadata": {},
   "outputs": [],
   "source": []
  },
  {
   "cell_type": "code",
   "execution_count": null,
   "metadata": {},
   "outputs": [],
   "source": []
  }
 ],
 "metadata": {
  "kernelspec": {
   "display_name": "Python 3",
   "language": "python",
   "name": "python3"
  },
  "language_info": {
   "codemirror_mode": {
    "name": "ipython",
    "version": 3
   },
   "file_extension": ".py",
   "mimetype": "text/x-python",
   "name": "python",
   "nbconvert_exporter": "python",
   "pygments_lexer": "ipython3",
   "version": "3.8.5"
  }
 },
 "nbformat": 4,
 "nbformat_minor": 4
}
