{
 "cells": [
  {
   "cell_type": "code",
   "execution_count": null,
   "metadata": {},
   "outputs": [],
   "source": [
    "channel_num = int(input())\n",
    "broken_num = int(input())\n",
    "if broken_num:\n",
    "    broken_buttons = list(map(int, input().split()))\n",
    "\n",
    "def find_nearest_button(broken_button):\n",
    "    if broken_button+1 not in broken_buttons:\n",
    "        return broken_button+1\n",
    "    elif broken_button-1 not in broken_buttons:\n",
    "        return broken button-1\n",
    "    \n",
    "    \n",
    "if channel_num == 100:\n",
    "    print(0)\n",
    "elif channel_num==99 or channel_num==101:\n",
    "    print(1)\n",
    "elif channel_num==98 or channel_num==102:\n",
    "    print(2)\n",
    "else:\n",
    "    substitute_num = channel_num\n",
    "    for i in channel_num:\n",
    "        if i in broken_buttons:\n",
    "            nearest_button = find_nearest_button(i)\n",
    "            if nearest_button >= 10:\n",
    "                substitute_num[i-0] = nearest_button\n",
    "    print(len(substitue-num) + abs(substitue_num-channel_num))"
   ]
  },
  {
   "cell_type": "code",
   "execution_count": 1,
   "metadata": {},
   "outputs": [
    {
     "name": "stdout",
     "output_type": "stream",
     "text": [
      "10은 True\n"
     ]
    }
   ],
   "source": [
    "#True값 테스트\n",
    "if 10:\n",
    "    print('10은 True')\n",
    "else:\n",
    "    print('10은 False')"
   ]
  },
  {
   "cell_type": "code",
   "execution_count": null,
   "metadata": {},
   "outputs": [],
   "source": []
  }
 ],
 "metadata": {
  "kernelspec": {
   "display_name": "Python 3",
   "language": "python",
   "name": "python3"
  },
  "language_info": {
   "codemirror_mode": {
    "name": "ipython",
    "version": 3
   },
   "file_extension": ".py",
   "mimetype": "text/x-python",
   "name": "python",
   "nbconvert_exporter": "python",
   "pygments_lexer": "ipython3",
   "version": "3.8.5"
  }
 },
 "nbformat": 4,
 "nbformat_minor": 4
}
