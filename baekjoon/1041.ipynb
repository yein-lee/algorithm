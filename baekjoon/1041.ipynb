{
 "cells": [
  {
   "cell_type": "code",
   "execution_count": 11,
   "metadata": {},
   "outputs": [
    {
     "name": "stdout",
     "output_type": "stream",
     "text": [
      "1\n",
      "1 2 3 4 5 6\n",
      "15\n"
     ]
    }
   ],
   "source": [
    "n = int(input())\n",
    "dice = list(map(int, input().split()))\n",
    "\n",
    "if n == 1:\n",
    "    one_max = max(dice)\n",
    "    out = dice[0] + dice[1] + dice[2]+ dice[3]+ dice[4]+ dice[5] - one_max\n",
    "    print(out)\n",
    "else:\n",
    "    sum_three = [0, 0, 0, 0, 0, 0, 0, 0]\n",
    "    sum_three[0] = dice[0] + dice[1] + dice[2]\n",
    "    sum_three[1] = dice[0] + dice[1] + dice[3]\n",
    "    sum_three[2] = dice[0] + dice[3] + dice[4]\n",
    "    sum_three[3] = dice[0] + dice[2] + dice[4]\n",
    "    sum_three[4] = dice[5] + dice[3] + dice[1]\n",
    "    sum_three[5] = dice[5] + dice[3] + dice[4]\n",
    "    sum_three[6] = dice[5] + dice[2] + dice[4]\n",
    "    sum_three[7] = dice[5] + dice[2] + dice[1]\n",
    "    sum_three_min = min(sum_three)\n",
    "\n",
    "    sum_two = [0, 0, 0, 0, 0, 0, 0, 0, 0, 0, 0, 0]\n",
    "    sum_two[0] = dice[0] + dice[1]\n",
    "    sum_two[1] = dice[0] + dice[2]\n",
    "    sum_two[2] = dice[0] + dice[3]\n",
    "    sum_two[3] = dice[0] + dice[4]\n",
    "    sum_two[4] = dice[2] + dice[1]\n",
    "    sum_two[5] = dice[2] + dice[4]\n",
    "    sum_two[6] = dice[3] + dice[1]\n",
    "    sum_two[7] = dice[3] + dice[4]\n",
    "    sum_two[8] = dice[5] + dice[2]\n",
    "    sum_two[9] = dice[5] + dice[3]\n",
    "    sum_two[10] = dice[5] + dice[4]\n",
    "    sum_two[11] = dice[5] + dice[1]\n",
    "    sum_two_min = min(sum_two)\n",
    "\n",
    "    sum_one_min = min(dice)\n",
    "\n",
    "\n",
    "    three_num = 4\n",
    "    two_num = 8*n - 12\n",
    "    one_num = 5*pow(n,2) - 16*n + 12\n",
    "\n",
    "    out = three_num*sum_three_min + two_num*sum_two_min + one_num*sum_one_min\n",
    "    print(out)\n"
   ]
  },
  {
   "cell_type": "code",
   "execution_count": null,
   "metadata": {},
   "outputs": [],
   "source": []
  }
 ],
 "metadata": {
  "kernelspec": {
   "display_name": "Python 3",
   "language": "python",
   "name": "python3"
  },
  "language_info": {
   "codemirror_mode": {
    "name": "ipython",
    "version": 3
   },
   "file_extension": ".py",
   "mimetype": "text/x-python",
   "name": "python",
   "nbconvert_exporter": "python",
   "pygments_lexer": "ipython3",
   "version": "3.8.5"
  }
 },
 "nbformat": 4,
 "nbformat_minor": 4
}
