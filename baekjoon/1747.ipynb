{
 "cells": [
  {
   "cell_type": "code",
   "execution_count": 19,
   "metadata": {},
   "outputs": [
    {
     "name": "stdout",
     "output_type": "stream",
     "text": [
      "1\n",
      "2\n"
     ]
    }
   ],
   "source": [
    "from math import sqrt\n",
    "\n",
    "n = int(input())\n",
    "\n",
    "def prime_number(n):\n",
    "    for i in range(2, int(sqrt(n))+1):\n",
    "        #print(i)\n",
    "        if n%i==0:\n",
    "            #print(\"%d 나누기 %d = 0\" %(n, i))\n",
    "            return False\n",
    "    return True\n",
    "\n",
    "def pallindrome(n):\n",
    "    if len(n) <= 1:\n",
    "        return True\n",
    "    if n[0] == n[-1]:\n",
    "        return pallindrome(n[1:-1])\n",
    "    else:\n",
    "        return False\n",
    "    \n",
    "\n",
    "check = n\n",
    "while True:\n",
    "    if check == 1:\n",
    "        check = 2\n",
    "        break\n",
    "    if prime_number(check):\n",
    "        if pallindrome(str(check)):\n",
    "            break\n",
    "    check += 1\n",
    "print(check)"
   ]
  },
  {
   "cell_type": "code",
   "execution_count": null,
   "metadata": {},
   "outputs": [],
   "source": []
  },
  {
   "cell_type": "code",
   "execution_count": null,
   "metadata": {},
   "outputs": [],
   "source": []
  }
 ],
 "metadata": {
  "kernelspec": {
   "display_name": "Python 3",
   "language": "python",
   "name": "python3"
  },
  "language_info": {
   "codemirror_mode": {
    "name": "ipython",
    "version": 3
   },
   "file_extension": ".py",
   "mimetype": "text/x-python",
   "name": "python",
   "nbconvert_exporter": "python",
   "pygments_lexer": "ipython3",
   "version": "3.8.5"
  }
 },
 "nbformat": 4,
 "nbformat_minor": 4
}
