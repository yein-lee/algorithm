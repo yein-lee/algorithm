{
 "cells": [
  {
   "cell_type": "code",
   "execution_count": 15,
   "metadata": {},
   "outputs": [
    {
     "name": "stdout",
     "output_type": "stream",
     "text": [
      "AbcbBccCDefgh\n",
      "[0, 4, 7, 8]\n",
      "1 1\n",
      "2 3\n",
      "4\n"
     ]
    }
   ],
   "source": [
    "import re\n",
    "\n",
    "instructions = input()\n",
    "p = re.compile('[A-Z]')\n",
    "result = p.finditer(instructions)\n",
    "large_index = list()\n",
    "\n",
    "for i in result:\n",
    "    large_index.append(i.start())\n",
    "    \n",
    "print(large_index)\n",
    "cnt=0\n",
    "for i in range(len(large_index)-1):\n",
    "    distance = large_index[i+1] - large_index[i]\n",
    "    if distance %4 != 0:\n",
    "        multiples_of_4 = distance + 4 - distance % 4\n",
    "        cnt += multiples_of_4 - distance\n",
    "        print(\"%d %d\" %(i, multiples_of_4 - distance))\n",
    "print(cnt)"
   ]
  },
  {
   "cell_type": "code",
   "execution_count": 6,
   "metadata": {},
   "outputs": [
    {
     "name": "stdout",
     "output_type": "stream",
     "text": [
      "5\n"
     ]
    }
   ],
   "source": []
  },
  {
   "cell_type": "code",
   "execution_count": null,
   "metadata": {},
   "outputs": [],
   "source": []
  }
 ],
 "metadata": {
  "kernelspec": {
   "display_name": "Python 3",
   "language": "python",
   "name": "python3"
  },
  "language_info": {
   "codemirror_mode": {
    "name": "ipython",
    "version": 3
   },
   "file_extension": ".py",
   "mimetype": "text/x-python",
   "name": "python",
   "nbconvert_exporter": "python",
   "pygments_lexer": "ipython3",
   "version": "3.8.5"
  }
 },
 "nbformat": 4,
 "nbformat_minor": 4
}
