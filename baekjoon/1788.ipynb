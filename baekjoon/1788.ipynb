{
 "cells": [
  {
   "cell_type": "code",
   "execution_count": 4,
   "metadata": {},
   "outputs": [
    {
     "name": "stdout",
     "output_type": "stream",
     "text": [
      "-2\n",
      "-1\n",
      "1\n"
     ]
    }
   ],
   "source": [
    "import sys\n",
    "sys.setrecursionlimit(10**6)\n",
    "\n",
    "n = int(input())\n",
    "\n",
    "def fibo_pos(n):\n",
    "    if n == 0:\n",
    "        return -0\n",
    "    elif n == 1:\n",
    "        return 1\n",
    "    if d[n]!=0:\n",
    "        return d[n]\n",
    "    d[n] = fibo_pos(n-1) + fibo_pos(n-2)\n",
    "    return d[n]\n",
    "\n",
    "def fibo_neg(n):\n",
    "    if n == -1:\n",
    "        return 1\n",
    "    elif n == -2:\n",
    "        return -1\n",
    "    if d[n] != 0:\n",
    "        return d[n]\n",
    "    d[n] = fibo_neg(n+1) - fibo_neg(n+2)\n",
    "    return d[n]\n",
    "\n",
    "    \n",
    "if n <= -3: \n",
    "    d = [0]*(-n+1)\n",
    "elif n>=2:\n",
    "    d = [0]*(n+1)\n",
    "\n",
    "if n<0:\n",
    "    result = fibo_neg(n)\n",
    "else:\n",
    "    result = fibo_pos(n)\n",
    "    \n",
    "if result > 0:\n",
    "    print(1)\n",
    "    print(result%1000000000)\n",
    "elif result == 0:\n",
    "    print(0)\n",
    "    print(result)\n",
    "else:\n",
    "    print(-1)\n",
    "    result = -result\n",
    "    print(result%1000000000)\n",
    "    \n",
    "    \n",
    "#메모리초과..... 새로운 알고리즘 필요"
   ]
  },
  {
   "cell_type": "code",
   "execution_count": 8,
   "metadata": {},
   "outputs": [
    {
     "name": "stdout",
     "output_type": "stream",
     "text": [
      "-2\n",
      "-1\n",
      "1\n"
     ]
    }
   ],
   "source": [
    "import sys\n",
    "sys.setrecursionlimit(10**6)\n",
    "\n",
    "n = int(input())\n",
    "d = [0] * (abs(n)+1)\n",
    "\n",
    "def fibo(n):\n",
    "    if n == 0:\n",
    "        return 0\n",
    "    elif n == 1:\n",
    "        return 1\n",
    "    if d[n]!=0:\n",
    "        return d[n]\n",
    "    d[n] = (fibo(n-1) + fibo(n-2))%1000000000\n",
    "    return d[n]\n",
    "\n",
    "if n<0 and abs(n)%2==0:\n",
    "    print(-1)\n",
    "else:\n",
    "    print(1)\n",
    "print(fibo(abs(n)))\n",
    "#얘는 왜 메모리 초과?"
   ]
  },
  {
   "cell_type": "code",
   "execution_count": null,
   "metadata": {},
   "outputs": [],
   "source": [
    "n = int(input())\n",
    "s = [0, 1]\n",
    "for i in range(2, abs(n) + 1):\n",
    "    s.append((s[i - 1] + s[i - 2]) % 1000000000)\n",
    "if n % 2 == 0 and n < 0:\n",
    "    print(-1)\n",
    "elif n == 0:\n",
    "    print(0)\n",
    "else:\n",
    "    print(1)\n",
    "print(s[abs(n)])\n",
    "#얘는 왜 돼?"
   ]
  }
 ],
 "metadata": {
  "kernelspec": {
   "display_name": "Python 3",
   "language": "python",
   "name": "python3"
  },
  "language_info": {
   "codemirror_mode": {
    "name": "ipython",
    "version": 3
   },
   "file_extension": ".py",
   "mimetype": "text/x-python",
   "name": "python",
   "nbconvert_exporter": "python",
   "pygments_lexer": "ipython3",
   "version": "3.8.5"
  }
 },
 "nbformat": 4,
 "nbformat_minor": 4
}
