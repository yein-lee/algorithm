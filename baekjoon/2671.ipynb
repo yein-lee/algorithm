{
 "cells": [
  {
   "cell_type": "code",
   "execution_count": 3,
   "metadata": {},
   "outputs": [
    {
     "name": "stdout",
     "output_type": "stream",
     "text": [
      "100000000001101\n",
      "SUBMARINE\n"
     ]
    }
   ],
   "source": [
    "# (100+1+ | 01)+\n",
    "import re\n",
    "import sys\n",
    "\n",
    "p = re.compile('(100+1+|01)+')        \n",
    "sound = input()\n",
    "m = p.fullmatch(sound)\n",
    "if m:\n",
    "    print(\"SUBMARINE\")\n",
    "else:\n",
    "    print(\"NOISE\")"
   ]
  },
  {
   "cell_type": "code",
   "execution_count": null,
   "metadata": {},
   "outputs": [],
   "source": []
  }
 ],
 "metadata": {
  "kernelspec": {
   "display_name": "Python 3",
   "language": "python",
   "name": "python3"
  },
  "language_info": {
   "codemirror_mode": {
    "name": "ipython",
    "version": 3
   },
   "file_extension": ".py",
   "mimetype": "text/x-python",
   "name": "python",
   "nbconvert_exporter": "python",
   "pygments_lexer": "ipython3",
   "version": "3.8.5"
  }
 },
 "nbformat": 4,
 "nbformat_minor": 4
}
