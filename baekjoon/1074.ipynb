{
 "cells": [
  {
   "cell_type": "code",
   "execution_count": 1,
   "metadata": {},
   "outputs": [
    {
     "name": "stdout",
     "output_type": "stream",
     "text": [
      "2 3 1\n",
      "11\n"
     ]
    }
   ],
   "source": [
    "N, r, c = map(int, input().split())\n",
    "\n",
    "turn = 0\n",
    "def z_recursive(x, y, N):\n",
    "    global turn, r, c\n",
    "    if(N>=1):\n",
    "        if(r<x+pow(2,N) and c<y+pow(2,N)):\n",
    "            z_recursive(x, y, N-1)\n",
    "            z_recursive(x, y+pow(2,N-1), N-1)\n",
    "            z_recursive(x+pow(2,N-1), y, N-1)\n",
    "            z_recursive(x+pow(2,N-1), y+pow(2,N-1), N-1)\n",
    "        else:\n",
    "            turn += pow(2,N)*pow(2,N)\n",
    "#             print('pass: z_recursive(%d, %d, %d), turn %d)' %(x, y, N, turn))\n",
    "    elif(N==0):\n",
    "        if(x==r and y==c):\n",
    "            print(turn)\n",
    "            exit()\n",
    "        turn +=1\n",
    "        \n",
    "z_recursive(0, 0, N)"
   ]
  },
  {
   "cell_type": "code",
   "execution_count": 1,
   "metadata": {},
   "outputs": [
    {
     "data": {
      "text/plain": [
       "int"
      ]
     },
     "execution_count": 1,
     "metadata": {},
     "output_type": "execute_result"
    }
   ],
   "source": [
    "type(2//1)"
   ]
  },
  {
   "cell_type": "code",
   "execution_count": 5,
   "metadata": {},
   "outputs": [
    {
     "data": {
      "text/plain": [
       "float"
      ]
     },
     "execution_count": 5,
     "metadata": {},
     "output_type": "execute_result"
    }
   ],
   "source": [
    "type(2/1)"
   ]
  },
  {
   "cell_type": "code",
   "execution_count": 1,
   "metadata": {},
   "outputs": [
    {
     "name": "stdout",
     "output_type": "stream",
     "text": [
      "2\n",
      "4\n",
      "8\n"
     ]
    }
   ],
   "source": [
    "print(pow(2,1))\n",
    "print(pow(2,2))\n",
    "print(pow(2,3))"
   ]
  },
  {
   "cell_type": "code",
   "execution_count": null,
   "metadata": {},
   "outputs": [],
   "source": []
  }
 ],
 "metadata": {
  "kernelspec": {
   "display_name": "Python 3",
   "language": "python",
   "name": "python3"
  },
  "language_info": {
   "codemirror_mode": {
    "name": "ipython",
    "version": 3
   },
   "file_extension": ".py",
   "mimetype": "text/x-python",
   "name": "python",
   "nbconvert_exporter": "python",
   "pygments_lexer": "ipython3",
   "version": "3.8.5"
  }
 },
 "nbformat": 4,
 "nbformat_minor": 4
}
