{
 "cells": [
  {
   "cell_type": "code",
   "execution_count": 4,
   "metadata": {},
   "outputs": [],
   "source": [
    "def draw_stars(n, idx):\n",
    "    if n==1:\n",
    "        star_map[idx][idx] = '*'\n",
    "        return\n",
    "    \n",
    "    l = 4*n-3\n",
    "    for i in range(idx, l+idx):\n",
    "        star_map[idx][i]= '*' #위\n",
    "        star_map[idx+l-1][i]= '*' #아래\n",
    "        star_map[i][idx]= '*' #왼\n",
    "        star_map[i][idx+l-1]= '*' #오\n",
    "    return draw_stars(n-1, idx+2)"
   ]
  },
  {
   "cell_type": "code",
   "execution_count": 11,
   "metadata": {},
   "outputs": [
    {
     "name": "stdout",
     "output_type": "stream",
     "text": [
      "2\n"
     ]
    }
   ],
   "source": [
    "n = int(input())\n",
    "lens = 4*n-3\n",
    "star_map = [[' ']*lens for _ in range(lens)]\n",
    "draw_stars(n,0)"
   ]
  },
  {
   "cell_type": "code",
   "execution_count": 12,
   "metadata": {},
   "outputs": [
    {
     "name": "stdout",
     "output_type": "stream",
     "text": [
      "*****\n",
      "*   *\n",
      "* * *\n",
      "*   *\n",
      "*****\n"
     ]
    }
   ],
   "source": [
    "for i in range(lens):\n",
    "    for j in range(lens):\n",
    "        print(star_map[i][j], end=\"\")\n",
    "    print()"
   ]
  },
  {
   "cell_type": "code",
   "execution_count": null,
   "metadata": {},
   "outputs": [],
   "source": []
  }
 ],
 "metadata": {
  "kernelspec": {
   "display_name": "Python 3",
   "language": "python",
   "name": "python3"
  },
  "language_info": {
   "codemirror_mode": {
    "name": "ipython",
    "version": 3
   },
   "file_extension": ".py",
   "mimetype": "text/x-python",
   "name": "python",
   "nbconvert_exporter": "python",
   "pygments_lexer": "ipython3",
   "version": "3.8.5"
  }
 },
 "nbformat": 4,
 "nbformat_minor": 4
}
