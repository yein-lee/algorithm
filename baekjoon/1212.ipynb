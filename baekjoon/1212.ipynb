{
 "cells": [
  {
   "cell_type": "code",
   "execution_count": 21,
   "metadata": {},
   "outputs": [
    {
     "name": "stdout",
     "output_type": "stream",
     "text": [
      "0\n",
      "[0, 0, 0]\n",
      "0\n"
     ]
    }
   ],
   "source": [
    "n = input()\n",
    "\n",
    "\n",
    "new_n = [0]*(len(n)*3)\n",
    "#print(new_n)\n",
    "for i in range(len(n)):\n",
    "    m = int(n[i])\n",
    "    new_n[i*3+2] = m%2\n",
    "    m //= 2\n",
    "    new_n[i*3+1] = m%2\n",
    "    m //= 2\n",
    "    new_n[i*3] = m\n",
    "    \n",
    "str_new_n = ''.join(str(e) for e in new_n)\n",
    "int_new_n = int(str_new_n)\n",
    "print(int_new_n)"
   ]
  },
  {
   "cell_type": "code",
   "execution_count": 24,
   "metadata": {},
   "outputs": [
    {
     "name": "stdout",
     "output_type": "stream",
     "text": [
      "10\n",
      "1000"
     ]
    }
   ],
   "source": [
    "n = input()\n",
    "\n",
    "p = n[0]\n",
    "if p == '0':\n",
    "    print('0', end='')\n",
    "elif p == '1':\n",
    "    print('1', end='')\n",
    "elif p == '2':\n",
    "    print('10', end='')\n",
    "elif p == '3':\n",
    "    print('11', end='')\n",
    "elif p == '4':\n",
    "    print('100', end='')\n",
    "elif p == '5':\n",
    "    print('101', end='')\n",
    "elif p == '6':\n",
    "    print('110', end='')\n",
    "elif p == '7':\n",
    "    print('111', end='')\n",
    "    \n",
    "for i in range(1, len(n)):\n",
    "    if n[i] == '0':\n",
    "        print('000', end='')\n",
    "    elif n[i] == '1':\n",
    "        print('001', end='')\n",
    "    elif n[i] == '2':\n",
    "        print('010', end='')\n",
    "    elif n[i] == '3':\n",
    "        print('011', end='')\n",
    "    elif n[i] == '4':\n",
    "        print('100', end='')\n",
    "    elif n[i] == '5':\n",
    "        print('101', end='')\n",
    "    elif n[i] == '6':\n",
    "        print('110', end='')\n",
    "    elif n[i] == '7':\n",
    "        print('111', end='')"
   ]
  },
  {
   "cell_type": "code",
   "execution_count": null,
   "metadata": {},
   "outputs": [],
   "source": []
  }
 ],
 "metadata": {
  "kernelspec": {
   "display_name": "Python 3",
   "language": "python",
   "name": "python3"
  },
  "language_info": {
   "codemirror_mode": {
    "name": "ipython",
    "version": 3
   },
   "file_extension": ".py",
   "mimetype": "text/x-python",
   "name": "python",
   "nbconvert_exporter": "python",
   "pygments_lexer": "ipython3",
   "version": "3.8.5"
  }
 },
 "nbformat": 4,
 "nbformat_minor": 4
}
