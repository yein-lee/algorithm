{
 "cells": [
  {
   "cell_type": "code",
   "execution_count": 1,
   "metadata": {},
   "outputs": [],
   "source": [
    "import operator as op\n",
    "from functools import reduce\n",
    "\n",
    "def combination(n,m):\n",
    "    m=min(n-m, m)\n",
    "    numerator = reduce(op.mul, range(n-m+1, n+1), 1)\n",
    "    denominator = reduce(op.mul, range(1, m+1), 1)\n",
    "    return numerator//denominator"
   ]
  },
  {
   "cell_type": "code",
   "execution_count": 3,
   "metadata": {},
   "outputs": [
    {
     "name": "stdout",
     "output_type": "stream",
     "text": [
      "25 12\n",
      "5200300\n"
     ]
    }
   ],
   "source": [
    "n, m = map(int, input().split())\n",
    "comb = combination(n,m)\n",
    "print(comb)"
   ]
  },
  {
   "cell_type": "code",
   "execution_count": 5,
   "metadata": {},
   "outputs": [
    {
     "name": "stdout",
     "output_type": "stream",
     "text": [
      "10\n",
      "9\n",
      "8\n",
      "7\n",
      "6\n",
      "5\n",
      "4\n",
      "3\n",
      "2\n",
      "1\n",
      "0\n"
     ]
    }
   ],
   "source": [
    "for i in range(10, -1, -1):\n",
    "    print(i)"
   ]
  },
  {
   "cell_type": "code",
   "execution_count": 8,
   "metadata": {},
   "outputs": [],
   "source": [
    "comb = str(comb)\n",
    "count = 0\n",
    "for i in range(len(comb)-1, -1, -1):\n",
    "    if comb[i]=='0':\n",
    "        count += 1\n",
    "    else:\n",
    "        break"
   ]
  },
  {
   "cell_type": "code",
   "execution_count": 9,
   "metadata": {},
   "outputs": [
    {
     "name": "stdout",
     "output_type": "stream",
     "text": [
      "2\n"
     ]
    }
   ],
   "source": [
    "print(count)"
   ]
  },
  {
   "cell_type": "code",
   "execution_count": 10,
   "metadata": {},
   "outputs": [
    {
     "name": "stdout",
     "output_type": "stream",
     "text": [
      "25 12\n",
      "2\n"
     ]
    }
   ],
   "source": [
    "import operator as op\n",
    "from functools import reduce\n",
    "\n",
    "def combination(n,m):\n",
    "    m=min(n-m, m)\n",
    "    numerator = reduce(op.mul, range(n-m+1, n+1), 1)\n",
    "    denominator = reduce(op.mul, range(1, m+1), 1)\n",
    "    return numerator//denominator\n",
    "\n",
    "n, m = map(int, input().split())\n",
    "comb = str(combination(n,m))\n",
    "\n",
    "count = 0\n",
    "for i in range(len(comb)-1, -1, -1):\n",
    "    if comb[i]=='0':\n",
    "        count += 1\n",
    "    else:\n",
    "        break\n",
    "        \n",
    "print(count)"
   ]
  },
  {
   "cell_type": "code",
   "execution_count": null,
   "metadata": {},
   "outputs": [],
   "source": []
  }
 ],
 "metadata": {
  "kernelspec": {
   "display_name": "Python 3",
   "language": "python",
   "name": "python3"
  },
  "language_info": {
   "codemirror_mode": {
    "name": "ipython",
    "version": 3
   },
   "file_extension": ".py",
   "mimetype": "text/x-python",
   "name": "python",
   "nbconvert_exporter": "python",
   "pygments_lexer": "ipython3",
   "version": "3.8.5"
  }
 },
 "nbformat": 4,
 "nbformat_minor": 4
}
