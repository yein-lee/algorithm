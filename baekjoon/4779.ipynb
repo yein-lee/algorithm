{
 "cells": [
  {
   "cell_type": "code",
   "execution_count": 19,
   "metadata": {},
   "outputs": [],
   "source": [
    "def cut_recursive(n):\n",
    "#     print(n)\n",
    "    if n==0:\n",
    "        print('-', end='')\n",
    "        return\n",
    "    cut_recursive(n-1)\n",
    "    for i in range(0, pow(3, n-1)):\n",
    "        print(' ', end='')\n",
    "    cut_recursive(n-1)"
   ]
  },
  {
   "cell_type": "code",
   "execution_count": 29,
   "metadata": {},
   "outputs": [
    {
     "name": "stdout",
     "output_type": "stream",
     "text": [
      "3\n",
      "- -   - -         - -   - -4\n",
      "- -   - -         - -   - -                           - -   - -         - -   - -1\n",
      "- -6\n",
      "- -   - -         - -   - -                           - -   - -         - -   - -                                                                                 - -   - -         - -   - -                           - -   - -         - -   - -                                                                                                                                                                                                                                                   - -   - -         - -   - -                           - -   - -         - -   - -                                                                                 - -   - -         - -   - -                           - -   - -         - -   - -\n"
     ]
    }
   ],
   "source": [
    "while(True):\n",
    "    try:\n",
    "        n = int(input())\n",
    "        cut_recursive(n)\n",
    "    except:\n",
    "        break"
   ]
  },
  {
   "cell_type": "code",
   "execution_count": 18,
   "metadata": {},
   "outputs": [
    {
     "name": "stdout",
     "output_type": "stream",
     "text": [
      "3\n",
      "2\n",
      "1\n",
      "0\n",
      "- 0\n",
      "-   1\n",
      "0\n",
      "- 0\n",
      "-         2\n",
      "1\n",
      "0\n",
      "- 0\n",
      "-   1\n",
      "0\n",
      "- 0\n",
      "-"
     ]
    }
   ],
   "source": [
    "cut_recursive(n)"
   ]
  },
  {
   "cell_type": "code",
   "execution_count": 25,
   "metadata": {},
   "outputs": [
    {
     "name": "stdout",
     "output_type": "stream",
     "text": [
      "- -   - -         - -   - -                           - -   - -         - -   - -"
     ]
    }
   ],
   "source": [
    "cut_recursive(4)"
   ]
  },
  {
   "cell_type": "code",
   "execution_count": 10,
   "metadata": {},
   "outputs": [
    {
     "name": "stdout",
     "output_type": "stream",
     "text": [
      "['_', '_', '_']\n"
     ]
    }
   ],
   "source": [
    "print(line)"
   ]
  },
  {
   "cell_type": "code",
   "execution_count": null,
   "metadata": {},
   "outputs": [],
   "source": []
  }
 ],
 "metadata": {
  "kernelspec": {
   "display_name": "Python 3",
   "language": "python",
   "name": "python3"
  },
  "language_info": {
   "codemirror_mode": {
    "name": "ipython",
    "version": 3
   },
   "file_extension": ".py",
   "mimetype": "text/x-python",
   "name": "python",
   "nbconvert_exporter": "python",
   "pygments_lexer": "ipython3",
   "version": "3.8.5"
  }
 },
 "nbformat": 4,
 "nbformat_minor": 4
}
