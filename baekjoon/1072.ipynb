{
 "cells": [
  {
   "cell_type": "code",
   "execution_count": 24,
   "metadata": {},
   "outputs": [
    {
     "name": "stdout",
     "output_type": "stream",
     "text": [
      "50 29\n",
      "58\n",
      "2\n"
     ]
    }
   ],
   "source": [
    "import math\n",
    "\n",
    "x, y = map(int, input().split())\n",
    "z = (y*100/x)\n",
    "z = math.floor(z)\n",
    "print(z)\n",
    "l=1\n",
    "r=1000000000\n",
    "\n",
    "if z >= 99:\n",
    "    print(-1)\n",
    "else:\n",
    "    while(l<=r):\n",
    "        mid = (l+r)//2\n",
    "        z2 = (y+mid) * 100 / (x+mid)\n",
    "        z2 = math.floor(z2)\n",
    "        if(z<z2):\n",
    "            r = mid-1\n",
    "            ans = mid\n",
    "        else:\n",
    "            l = mid+1\n",
    "    print(ans)"
   ]
  },
  {
   "cell_type": "code",
   "execution_count": null,
   "metadata": {},
   "outputs": [],
   "source": []
  },
  {
   "cell_type": "code",
   "execution_count": null,
   "metadata": {},
   "outputs": [],
   "source": []
  }
 ],
 "metadata": {
  "kernelspec": {
   "display_name": "Python 3",
   "language": "python",
   "name": "python3"
  },
  "language_info": {
   "codemirror_mode": {
    "name": "ipython",
    "version": 3
   },
   "file_extension": ".py",
   "mimetype": "text/x-python",
   "name": "python",
   "nbconvert_exporter": "python",
   "pygments_lexer": "ipython3",
   "version": "3.8.5"
  }
 },
 "nbformat": 4,
 "nbformat_minor": 4
}
