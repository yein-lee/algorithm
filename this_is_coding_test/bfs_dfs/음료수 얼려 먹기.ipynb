{
 "cells": [
  {
   "cell_type": "code",
   "execution_count": null,
   "metadata": {},
   "outputs": [],
   "source": [
    "n, m = map(int, input().split())\n",
    "\n",
    "ice_map = list()\n",
    "for i in range(n):\n",
    "    ice_map.append(list(map(int, input())))\n",
    "    \n",
    "    \n",
    "def dfs(x, y):\n",
    "    if x<0 or x>n-1 or y<0 or y>m-1:\n",
    "        return False\n",
    "    if graph[x][y]==0:\n",
    "        graph[x][y]=1\n",
    "        dfs(x-1, y)\n",
    "        dfs(x, y-1)\n",
    "        dfs(x+1, y)\n",
    "        dfs(x, y+1)\n",
    "        return True\n",
    "    return False\n",
    "\n",
    "\n",
    "result = 0\n",
    "for i in range(n):\n",
    "    for j in range(m):\n",
    "        if dfs(i,j)==True:\n",
    "            result+=1\n",
    "            \n",
    "print(result)"
   ]
  }
 ],
 "metadata": {
  "kernelspec": {
   "display_name": "Python 3",
   "language": "python",
   "name": "python3"
  },
  "language_info": {
   "codemirror_mode": {
    "name": "ipython",
    "version": 3
   },
   "file_extension": ".py",
   "mimetype": "text/x-python",
   "name": "python",
   "nbconvert_exporter": "python",
   "pygments_lexer": "ipython3",
   "version": "3.8.5"
  }
 },
 "nbformat": 4,
 "nbformat_minor": 4
}
